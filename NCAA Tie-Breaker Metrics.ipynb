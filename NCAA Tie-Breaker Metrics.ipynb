{
 "cells": [
  {
   "cell_type": "code",
   "execution_count": null,
   "metadata": {},
   "outputs": [],
   "source": [
    "\"\"\"\n",
    "context: NCAA March Madness final tiebreaker \n",
    "https://help.yahoo.com/kb/SLN6654.html\n",
    "\n",
    "\n",
    "Comparison of the following metrics for\n",
    "The set C = {contestants i with some predicted (w_i, l_i) score}:\n",
    "\n",
    "T1: \"Closest prediction of total points scored by both teams wins\"\n",
    "T1 = min_i(|(w_i + l_i) - (w + l)|)\n",
    "\n",
    "T2: \"Closest predictions of actual winning and losing scores\"\n",
    "T2 = min_i(|w_i - w| + |l_i - l|)\n",
    "\n",
    "\n",
    "Goal: \n",
    "Determine which metric is better\n",
    "\n",
    "The \"Best\" metric \n",
    "    - is able to determine a singular winner\n",
    "        - maximizes the number of losers (thereby minimizing the number of winners)\n",
    "\n",
    "\n",
    "Inputs:\n",
    "The set C where all contestants are tied and depend on one of the above tiebreakers\n",
    "\n",
    "\"\"\""
   ]
  },
  {
   "cell_type": "code",
   "execution_count": 32,
   "metadata": {},
   "outputs": [],
   "source": [
    "import numpy as np\n",
    "from scipy import stats \n",
    "import pandas as pd\n",
    "import matplotlib.pyplot as plt\n",
    "from scipy.stats import norm\n",
    "%matplotlib inline\n"
   ]
  },
  {
   "cell_type": "code",
   "execution_count": 169,
   "metadata": {},
   "outputs": [
    {
     "data": {
      "image/png": "[encoded data removed]",
      "text/plain": [
       "<matplotlib.figure.Figure at 0x11a9a4400>"
      ]
     },
     "metadata": {},
     "output_type": "display_data"
    }
   ],
   "source": [
    "# Define arrays W, L with winning and losing prediction scores defined by a normal distribution\n",
    "# The normal distribution is centered around 70 for winners 65 for losers with a std dev of 10\n",
    "# I took the average difference of our bracket for the difference between the mean of W and L\n",
    "# I guessed for the standard deviation \n",
    "# I guessed 70 for the mean winning score\n",
    "# sue me\n",
    "\n",
    "# Number of samples – Also subject to some degree of uncertainty but that's for another day\n",
    "size = 100\n",
    "\n",
    "# Elements of array sampled randomly from the normal distribution\n",
    "W = norm.rvs(loc = 70, scale = 10, size = size)\n",
    "L = norm.rvs(loc = 65, scale = 10, size = size)\n",
    "\n",
    "# Rount to integers\n",
    "W = np.rint(W)\n",
    "L = np.rint(L)\n",
    "\n",
    "fig, ax = plt.subplots(1,1)\n",
    "\n",
    "ax.hist(W, normed=True, histtype='stepfilled', alpha=0.2)\n",
    "plt.title('Distribution of W')\n",
    "plt.show()"
   ]
  },
  {
   "cell_type": "code",
   "execution_count": 170,
   "metadata": {},
   "outputs": [
    {
     "data": {
      "image/png": "[encoded data removed]",
      "text/plain": [
       "<matplotlib.figure.Figure at 0x1a1f14b438>"
      ]
     },
     "metadata": {},
     "output_type": "display_data"
    }
   ],
   "source": [
    "fig, ax = plt.subplots(1,1)\n",
    "ax.hist(L, normed=True, histtype='stepfilled', alpha=0.2)\n",
    "plt.title('Distribution of L')\n",
    "plt.show()"
   ]
  },
  {
   "cell_type": "code",
   "execution_count": 74,
   "metadata": {},
   "outputs": [],
   "source": [
    "# Now comparing metrics T1, T2\n",
    "# Actual scores taken from the 2018 Championship Game\n",
    "# Would probably be more telling to take an average of past games but whatever\n",
    "\n",
    "w = 79\n",
    "l = 62\n",
    "\n",
    "# Creates array of Tiebreaking scores \n",
    "# Winners are the minimum values (ie. 0 = perfect prediction)\n",
    "T1 = np.abs((W + L) - (w + l))\n",
    "T2 = np.abs(W - w) + np.abs(L - l)"
   ]
  },
  {
   "cell_type": "code",
   "execution_count": 173,
   "metadata": {},
   "outputs": [
    {
     "data": {
      "image/png": "[encoded data removed]",
      "text/plain": [
       "<matplotlib.figure.Figure at 0x11b296ac8>"
      ]
     },
     "metadata": {},
     "output_type": "display_data"
    }
   ],
   "source": [
    "fig, ax = plt.subplots(1,1)\n",
    "ax.hist(T1, normed=True, histtype='stepfilled', alpha=0.2)\n",
    "plt.title('Distribution of T1')\n",
    "plt.show()"
   ]
  },
  {
   "cell_type": "code",
   "execution_count": 174,
   "metadata": {},
   "outputs": [
    {
     "data": {
      "image/png": "[encoded data removed]",
      "text/plain": [
       "<matplotlib.figure.Figure at 0x11a896cf8>"
      ]
     },
     "metadata": {},
     "output_type": "display_data"
    }
   ],
   "source": [
    "fig, ax = plt.subplots(1,1)\n",
    "ax.hist(T2, normed=True, histtype='stepfilled', alpha=0.2)\n",
    "plt.title('Distribution of T2')\n",
    "plt.show()"
   ]
  },
  {
   "cell_type": "code",
   "execution_count": 133,
   "metadata": {},
   "outputs": [],
   "source": [
    "# Calculate proportion of winners to losers\n",
    "# Best = 1:99\n",
    "\n",
    "def howGood(a):\n",
    "    a = np.sort(a)\n",
    "    small = np.amin(a)\n",
    "    counter = 0\n",
    "    for i in range(1, a.size-1):\n",
    "        if a[i] == small:\n",
    "            counter += 1\n",
    "        else:\n",
    "            break\n",
    "   # print(\"Winners:Losers is \", counter+1, \":\", a.size-(counter+1))\n",
    "    return counter\n",
    "        \n"
   ]
  },
  {
   "cell_type": "code",
   "execution_count": 105,
   "metadata": {},
   "outputs": [
    {
     "name": "stdout",
     "output_type": "stream",
     "text": [
      "Winners:Losers is  1 : 99\n",
      "Winners:Losers is  1 : 99\n"
     ]
    },
    {
     "data": {
      "text/plain": [
       "1"
      ]
     },
     "execution_count": 105,
     "metadata": {},
     "output_type": "execute_result"
    }
   ],
   "source": [
    "howGood(T1)\n",
    "howGood(T2)"
   ]
  },
  {
   "cell_type": "code",
   "execution_count": null,
   "metadata": {},
   "outputs": [],
   "source": [
    "\"\"\"\n",
    "Now we gotta do this thousands of times\n",
    "\n",
    "Results Array: Each element of the vector counts the frequency of that occurence\n",
    "ie.\n",
    "A[2] = 10\n",
    "means that there were 10 simulations with 2 winners\n",
    "\n",
    "\"\"\""
   ]
  },
  {
   "cell_type": "code",
   "execution_count": 111,
   "metadata": {},
   "outputs": [],
   "source": [
    "# Create a function of the above\n",
    "\n",
    "def aBracket(size=100):\n",
    "    W = norm.rvs(loc = 70, scale = 10, size = size)\n",
    "    L = norm.rvs(loc = 65, scale = 10, size = size)\n",
    "    W = np.rint(W)\n",
    "    L = np.rint(L)\n",
    "\n",
    "    w = 79\n",
    "    l = 62\n",
    "\n",
    "    T1 = np.abs((W + L) - (w + l))\n",
    "    T2 = np.abs(W - w) + np.abs(L - l)\n",
    "\n",
    "    return howGood(T1), howGood(T2)"
   ]
  },
  {
   "cell_type": "code",
   "execution_count": 166,
   "metadata": {},
   "outputs": [],
   "source": [
    "# Initialize results array\n",
    "samples = 1000\n",
    "\n",
    "A1 = np.zeros(100)\n",
    "A2 = np.zeros(100)\n",
    "\n",
    "for i in range(samples):\n",
    "    a1, a2 = aBracket()\n",
    "    \n",
    "    A1[a1] += 1\n",
    "    A2[a2] += 1\n",
    "    \n",
    "    \n",
    "#print(A1, A2)\n"
   ]
  },
  {
   "cell_type": "code",
   "execution_count": 182,
   "metadata": {},
   "outputs": [
    {
     "data": {
      "image/png": "[encoded data removed]",
      "text/plain": [
       "<matplotlib.figure.Figure at 0x1a1f3f96d8>"
      ]
     },
     "metadata": {},
     "output_type": "display_data"
    }
   ],
   "source": [
    "fig, ax = plt.subplots(1,1)\n",
    "ax.plot([x for x in range(10)], A1[:10], label=\"Tie Metric 1\")\n",
    "ax.plot([x for x in range(10)], A2[:10], label=\"Tie Metric 2\")\n",
    "ax.legend()\n",
    "plt.title(\"Number of Ties vs Number of Occurences\")\n",
    "plt.xlabel(\"Number of Tied Contestants\")\n",
    "plt.ylabel(\"Number of Occurences\")\n",
    "plt.show()"
   ]
  },
  {
   "cell_type": "code",
   "execution_count": null,
   "metadata": {},
   "outputs": [],
   "source": [
    "\"\"\"\n",
    "I don't actually know if this shows anything statistically significant \n",
    "but it looks to me like Tie Metric 2 results in significantly less ties\n",
    "than Metric 1. \n",
    "\n",
    "\n",
    "WHATS UP WITH THAT YAHOO???\n",
    "\"\"\""
   ]
  }
 ],
 "metadata": {
  "kernelspec": {
   "display_name": "Python 3",
   "language": "python",
   "name": "python3"
  },
  "language_info": {
   "codemirror_mode": {
    "name": "ipython",
    "version": 3
   },
   "file_extension": ".py",
   "mimetype": "text/x-python",
   "name": "python",
   "nbconvert_exporter": "python",
   "pygments_lexer": "ipython3",
   "version": "3.6.4"
  }
 },
 "nbformat": 4,
 "nbformat_minor": 2
}
